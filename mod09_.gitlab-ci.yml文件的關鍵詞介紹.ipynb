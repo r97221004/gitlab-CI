{
 "cells": [
  {
   "cell_type": "markdown",
   "id": "350aaa34",
   "metadata": {},
   "source": [
    "參考文件: https://docs.gitlab.com/ee/ci/yaml/gitlab_ci_yaml.html"
   ]
  },
  {
   "cell_type": "code",
   "execution_count": null,
   "id": "219db4c7",
   "metadata": {},
   "outputs": [],
   "source": [
    "job1:\n",
    "  script:\n",
    "    - echo 'my ci/cd'"
   ]
  },
  {
   "cell_type": "code",
   "execution_count": null,
   "id": "27d1d809",
   "metadata": {},
   "outputs": [],
   "source": [
    "job1:\n",
    "  stage: build\n",
    "  script:\n",
    "    - echo 'my ci/cd'"
   ]
  },
  {
   "cell_type": "raw",
   "id": "9539647d",
   "metadata": {},
   "source": [
    "這裡的順序是按照預設的 官方定義的 stages"
   ]
  },
  {
   "cell_type": "code",
   "execution_count": null,
   "id": "c16e7c3d",
   "metadata": {},
   "outputs": [],
   "source": [
    "job1:\n",
    "  stage: .pre\n",
    "  script: \n",
    "    - echo 'my .pre job'\n",
    "\n",
    "job2:\n",
    "  stage: build\n",
    "  script:\n",
    "    - echo 'my build job'\n",
    "    \n",
    "job3:\n",
    "  stage: test\n",
    "  script: \n",
    "    - echo 'my test job'\n",
    "    \n",
    "job4:\n",
    "  stage: test\n",
    "  script:\n",
    "    - echo 'my test job'"
   ]
  },
  {
   "cell_type": "code",
   "execution_count": null,
   "id": "d8c7e160",
   "metadata": {},
   "outputs": [],
   "source": [
    "stages:\n",
    "  - stage1\n",
    "  - stage2\n",
    "  - stage3\n",
    "\n",
    "job2:\n",
    "  stage: stage2\n",
    "  script:\n",
    "    - echo 'my build job'\n",
    "\n",
    "job1:\n",
    "  stage: stage1\n",
    "  script: \n",
    "    - echo 'my .pre job'\n",
    "\n",
    "job3:\n",
    "  stage: stage3\n",
    "  script: \n",
    "    - echo 'my test job'\n",
    "    \n",
    "job4:\n",
    "  stage: stage3\n",
    "  script:\n",
    "    - echo 'my test job'"
   ]
  },
  {
   "cell_type": "code",
   "execution_count": null,
   "id": "38b02210",
   "metadata": {},
   "outputs": [],
   "source": [
    "stages"
   ]
  },
  {
   "cell_type": "code",
   "execution_count": null,
   "id": "f78c492a",
   "metadata": {},
   "outputs": [],
   "source": [
    "stage"
   ]
  },
  {
   "cell_type": "code",
   "execution_count": null,
   "id": "0535e9bd",
   "metadata": {},
   "outputs": [],
   "source": [
    "script"
   ]
  },
  {
   "cell_type": "code",
   "execution_count": null,
   "id": "17187dcd",
   "metadata": {},
   "outputs": [],
   "source": [
    "retry"
   ]
  },
  {
   "cell_type": "code",
   "execution_count": null,
   "id": "ebd467d0",
   "metadata": {
    "collapsed": true
   },
   "outputs": [],
   "source": [
    "only"
   ]
  },
  {
   "cell_type": "code",
   "execution_count": null,
   "id": "8a00ed48",
   "metadata": {},
   "outputs": [],
   "source": [
    "image"
   ]
  },
  {
   "cell_type": "code",
   "execution_count": null,
   "id": "6663dc15",
   "metadata": {},
   "outputs": [],
   "source": [
    "tags"
   ]
  },
  {
   "cell_type": "code",
   "execution_count": null,
   "id": "8247a3ce",
   "metadata": {},
   "outputs": [],
   "source": [
    "only/except"
   ]
  },
  {
   "cell_type": "code",
   "execution_count": null,
   "id": "2b4e00db",
   "metadata": {},
   "outputs": [],
   "source": [
    "when"
   ]
  },
  {
   "cell_type": "code",
   "execution_count": null,
   "id": "1a6b5324",
   "metadata": {},
   "outputs": [],
   "source": [
    "cache"
   ]
  }
 ],
 "metadata": {
  "kernelspec": {
   "display_name": "Python 3",
   "language": "python",
   "name": "python3"
  },
  "language_info": {
   "codemirror_mode": {
    "name": "ipython",
    "version": 3
   },
   "file_extension": ".py",
   "mimetype": "text/x-python",
   "name": "python",
   "nbconvert_exporter": "python",
   "pygments_lexer": "ipython3",
   "version": "3.8.10"
  }
 },
 "nbformat": 4,
 "nbformat_minor": 5
}
