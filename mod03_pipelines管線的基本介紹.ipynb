{
 "cells": [
  {
   "cell_type": "markdown",
   "id": "22fdb7dd",
   "metadata": {},
   "source": [
    "# CI/CD pipelines"
   ]
  },
  {
   "cell_type": "raw",
   "id": "48e6f94f",
   "metadata": {},
   "source": [
    "Pipelines are the top-level component of continuous integration, delivery, and deployment.\n",
    "\n",
    "Pipelines comprise:\n",
    "\n",
    "    - Jobs, which define what to do. For example, jobs that compile or test code.\n",
    "    - Stages, which define when to run the jobs. For example, stages that run tests after stages that compile the code.\n",
    "\n",
    "Jobs are executed by runners. Multiple jobs in the same stage are executed in parallel, if there are enough concurrent runners.\n",
    "\n",
    "If all jobs in a stage succeed, the pipeline moves on to the next stage.\n",
    "If any job in a stage fails, the next stage is not (usually) executed and the pipeline ends early.\n",
    "In general, pipelines are executed automatically and require no intervention once created. However, there are also times when you can manually interact with a pipeline."
   ]
  },
  {
   "cell_type": "raw",
   "id": "ae97a407",
   "metadata": {},
   "source": [
    "A typical pipeline might consist of four stages, executed in the following order:\n",
    "\n",
    "    - A build stage, with a job called compile.\n",
    "    - A test stage, with two jobs called test1 and test2.\n",
    "    - A staging stage, with a job called deploy-to-stage.\n",
    "    - A production stage, with a job called deploy-to-prod."
   ]
  },
  {
   "cell_type": "markdown",
   "id": "ede55755",
   "metadata": {},
   "source": [
    "# Types of pipelines"
   ]
  },
  {
   "cell_type": "raw",
   "id": "d59efcc1",
   "metadata": {},
   "source": [
    "Pipelines can be configured in many different ways:\n",
    "\n",
    "    - Basic pipelines run everything in each stage concurrently, followed by the next stage.\n",
    "    - Directed Acyclic Graph Pipeline (DAG) pipelines are based on relationships between jobs and can run more quickly than \n",
    "      basic pipelines.\n",
    "    - Merge request pipelines run for merge requests only (rather than for every commit).\n",
    "    - Merged results pipelines are merge request pipelines that act as though the changes from the source branch have \n",
    "      already been merged into the target branch.\n",
    "    - Merge trains use merged results pipelines to queue merges one after the other.\n",
    "    - Parent-child pipelines break down complex pipelines into one parent pipeline that can trigger multiple child sub-\n",
    "      pipelines, which all run in the same project and with the same SHA. This pipeline architecture is commonly used for \n",
    "      mono-repos.\n",
    "    - Multi-project pipelines combine pipelines for different projects together."
   ]
  },
  {
   "cell_type": "markdown",
   "id": "ae0139aa",
   "metadata": {},
   "source": [
    "# Configure a pipeline"
   ]
  },
  {
   "cell_type": "raw",
   "id": "50bba180",
   "metadata": {},
   "source": [
    "Pipelines and their component jobs and stages are defined in the CI/CD pipeline configuration file for each project.\n",
    "    - Jobs are the basic configuration component.\n",
    "    - Stages are defined by using the stages keyword.\n",
    "\n",
    "For a list of configuration options in the CI pipeline file, see the GitLab CI/CD Pipeline Configuration Reference.\n",
    "\n",
    "You can also configure specific aspects of your pipelines through the GitLab UI. For example:\n",
    "    - Pipeline settings for each project.\n",
    "    - Pipeline schedules.\n",
    "    - Custom CI/CD variables."
   ]
  },
  {
   "cell_type": "markdown",
   "id": "af1500c3",
   "metadata": {},
   "source": [
    "### Ref specs for runners"
   ]
  },
  {
   "cell_type": "raw",
   "id": "d9361660",
   "metadata": {},
   "source": [
    "When a runner picks a pipeline job, GitLab provides that job’s metadata. This includes the Git refspecs, which indicate which ref (branch, tag, and so on) and commit (SHA1) are checked out from your project repository."
   ]
  },
  {
   "cell_type": "markdown",
   "id": "7b96cfd3",
   "metadata": {},
   "source": [
    "### View pipelines"
   ]
  },
  {
   "cell_type": "raw",
   "id": "62ab9aa3",
   "metadata": {},
   "source": [
    "You can find the current and historical pipeline runs under your project’s CI/CD > Pipelines page. You can also access pipelines for a merge request by navigating to its Pipelines tab."
   ]
  },
  {
   "cell_type": "markdown",
   "id": "99574f8d",
   "metadata": {},
   "source": [
    "<img src='./img/6.png'>"
   ]
  },
  {
   "cell_type": "raw",
   "id": "e91523ed",
   "metadata": {},
   "source": [
    "Select a pipeline to open the Pipeline Details page and show the jobs that were run for that pipeline. From here you can cancel a running pipeline, retry jobs on a failed pipeline, or delete a pipeline.\n",
    "\n",
    "Starting in GitLab 12.3, a link to the latest pipeline for the last commit of a given branch is available at /project/pipelines/[branch]/latest. Also, /project/pipelines/latest redirects you to the latest pipeline for the last commit on the project’s default branch.\n",
    "\n",
    "Starting in GitLab 13.0, you can filter the pipeline list by:\n",
    "\n",
    "    - Trigger author\n",
    "    - Branch name\n",
    "    - Status (GitLab 13.1 and later)\n",
    "    - Tag (GitLab 13.1 and later)\n",
    "    - Source (GitLab 14.3 and later)\n",
    "    - Starting in GitLab 14.2, you can change the pipeline column to display the pipeline ID or the pipeline IID.\n",
    "\n",
    "If you use VS Code to edit your GitLab CI/CD configuration, the GitLab Workflow VS Code extension helps you validate your configuration and view your pipeline status."
   ]
  },
  {
   "cell_type": "markdown",
   "id": "625389f6",
   "metadata": {},
   "source": [
    "### Run a pipeline manually"
   ]
  },
  {
   "cell_type": "raw",
   "id": "1cadb87f",
   "metadata": {},
   "source": [
    "Pipelines can be manually executed, with predefined or manually-specified variables.\n",
    "\n",
    "You might do this if the results of a pipeline (for example, a code build) are required outside the normal operation of the pipeline.\n",
    "\n",
    "To execute a pipeline manually:\n",
    "\n",
    "    - On the top bar, select Main menu > Projects and find your project.\n",
    "    - On the left sidebar, select CI/CD > Pipelines.\n",
    "    - Select Run pipeline.\n",
    "    - In the Run for branch name or tag field, select the branch or tag to run the pipeline for.\n",
    "    - Enter any environment variables required for the pipeline to run. You can set specific variables to have their values \n",
    "      prefilled in the form.\n",
    "    - Select Run pipeline.\n",
    "\n",
    "The pipeline now executes the jobs as configured."
   ]
  },
  {
   "cell_type": "raw",
   "id": "d14dad29",
   "metadata": {},
   "source": [
    "Prefill variables in manual pipelines\n",
    "\n",
    "You can use the value and description keywords to define pipeline-level (global) variables that are prefilled when running a pipeline manually.\n",
    "\n",
    "In pipelines triggered manually, the Run pipelines page displays all top-level variables with a description and value defined in the .gitlab-ci.yml file. The values can then be modified if needed, which overrides the value for that single pipeline run.\n",
    "\n",
    "The description is displayed next to the variable. It can be used to explain what the variable is used for, what the acceptable values are, and so on:"
   ]
  },
  {
   "cell_type": "code",
   "execution_count": null,
   "id": "71090ada",
   "metadata": {},
   "outputs": [],
   "source": [
    "variables:\n",
    "  DEPLOY_ENVIRONMENT:\n",
    "    value: \"staging\"  # Deploy to staging by default\n",
    "    description: \"The deployment target. Change this variable to 'canary' or 'production' if needed.\""
   ]
  },
  {
   "cell_type": "raw",
   "id": "fb5a391e",
   "metadata": {},
   "source": [
    "You cannot set job-level variables to be pre-filled when you run a pipeline manually."
   ]
  },
  {
   "cell_type": "markdown",
   "id": "f3e32df6",
   "metadata": {},
   "source": [
    "### Run a pipeline by using a URL query string"
   ]
  },
  {
   "cell_type": "raw",
   "id": "b074c4aa",
   "metadata": {},
   "source": [
    "You can use a query string to pre-populate the Run Pipeline page. For example, the query string .../pipelines/new?ref=my_branch&var[foo]=bar&file_var[file_foo]=file_bar pre-populates the Run Pipeline page with:\n",
    "\n",
    "- Run for field: my_branch.\n",
    "- Variables section:\n",
    "    Variable:\n",
    "        Key: foo\n",
    "        Value: bar\n",
    "    File:\n",
    "        Key: file_foo\n",
    "        Value: file_bar\n",
    "        \n",
    "The format of the pipelines/new URL is:"
   ]
  },
  {
   "cell_type": "code",
   "execution_count": null,
   "id": "58527bac",
   "metadata": {},
   "outputs": [],
   "source": [
    ".../pipelines/new?ref=<branch>&var[<variable_key>]=<value>&file_var[<file_key>]=<value>"
   ]
  },
  {
   "cell_type": "raw",
   "id": "8fddd5f5",
   "metadata": {},
   "source": [
    "he following parameters are supported:\n",
    "\n",
    "- ref: specify the branch to populate the Run for field with.\n",
    "- var: specify a Variable variable.\n",
    "- file_var: specify a File variable.\n",
    "\n",
    "For each var or file_var, a key and value are required."
   ]
  },
  {
   "cell_type": "markdown",
   "id": "2027d448",
   "metadata": {},
   "source": [
    "### Add manual interaction to your pipeline"
   ]
  },
  {
   "cell_type": "raw",
   "id": "95be4614",
   "metadata": {},
   "source": [
    "Manual jobs, allow you to require manual interaction before moving forward in the pipeline.\n",
    "\n",
    "You can do this straight from the pipeline graph. Just select the play button to execute that particular job.\n",
    "\n",
    "For example, your pipeline can start automatically, but require a manual action to deploy to production. In the example below, the production stage has a job with a manual action:"
   ]
  },
  {
   "cell_type": "markdown",
   "id": "90788ff8",
   "metadata": {},
   "source": [
    "<img src='./img/7.png'>"
   ]
  },
  {
   "cell_type": "raw",
   "id": "9d34d1fc",
   "metadata": {},
   "source": [
    "Start multiple manual actions in a stage\n",
    "\n",
    "Multiple manual actions in a single stage can be started at the same time using the “Play all manual” After you select this action, each individual manual action is triggered and refreshed to an updated status.\n",
    "\n",
    "This functionality is only available:\n",
    "    - For users with at least the Developer role.\n",
    "    - If the stage contains manual actions."
   ]
  },
  {
   "cell_type": "markdown",
   "id": "2fba1f80",
   "metadata": {},
   "source": [
    "### Skip a pipeline"
   ]
  },
  {
   "cell_type": "raw",
   "id": "ddcac08c",
   "metadata": {},
   "source": [
    "To push a commit without triggering a pipeline, add [ci skip] or [skip ci], using any capitalization, to your commit message.\n",
    "\n",
    "Alternatively, if you are using Git 2.10 or later, use the ci.skip Git push option. The ci.skip push option does not skip merge request pipelines."
   ]
  },
  {
   "cell_type": "code",
   "execution_count": null,
   "id": "23b0e6e9",
   "metadata": {},
   "outputs": [],
   "source": [
    "git commit -m \"wip authentication [ci skip]\"\n",
    "git push -o ci.skip # Does not skip Merge Request pipelines"
   ]
  },
  {
   "cell_type": "markdown",
   "id": "d9915037",
   "metadata": {},
   "source": [
    "### Delete a pipeline"
   ]
  },
  {
   "cell_type": "raw",
   "id": "b81de4e9",
   "metadata": {},
   "source": [
    "Users with the Owner role for a project can delete a pipeline by clicking on the pipeline in the CI/CD > Pipelines to get to the Pipeline Details page, then selecting Delete.\n",
    "\n",
    "Deleting a pipeline does not automatically delete its child pipelines. See the related issue for details."
   ]
  },
  {
   "cell_type": "markdown",
   "id": "ebac2510",
   "metadata": {},
   "source": [
    "# Visualize pipelines"
   ]
  },
  {
   "cell_type": "raw",
   "id": "68da09d8",
   "metadata": {},
   "source": [
    "Pipelines can be complex structures with many sequential and parallel jobs.\n",
    "\n",
    "To make it easier to understand the flow of a pipeline, GitLab has pipeline graphs for viewing pipelines and their statuses.\n",
    "\n",
    "Pipeline graphs can be displayed as a large graph or a miniature representation, depending on the page you access the graph from.\n",
    "\n",
    "GitLab capitalizes the stages’ names in the pipeline graphs."
   ]
  },
  {
   "cell_type": "markdown",
   "id": "5235ec8c",
   "metadata": {},
   "source": [
    "### View full pipeline graph"
   ]
  },
  {
   "cell_type": "raw",
   "id": "0837ba73",
   "metadata": {},
   "source": [
    "The pipeline details page displays the full pipeline graph of all the jobs in the pipeline.\n",
    "You can group the jobs by:\n",
    "    - Stage, which arranges jobs in the same stage together in the same column:"
   ]
  },
  {
   "cell_type": "markdown",
   "id": "f23c4be1",
   "metadata": {},
   "source": [
    "<img src='./img/8.png'>"
   ]
  },
  {
   "cell_type": "raw",
   "id": "8f670ef3",
   "metadata": {},
   "source": [
    "    - Job dependencies, which arranges jobs based on their needs dependencies."
   ]
  },
  {
   "cell_type": "raw",
   "id": "189f88f7",
   "metadata": {},
   "source": [
    "Multi-project pipeline graphs help you visualize the entire pipeline, including all cross-project inter-dependencies.\n",
    "\n",
    "If a stage contains more than 100 jobs, only the first 100 jobs are listed in the pipeline graph. The remaining jobs still run as normal. To see the jobs:\n",
    "\n",
    "    - Select the pipeline, and the jobs are listed on the right side of the pipeline details page.\n",
    "    - On the left sidebar, select CI/CD > Jobs."
   ]
  },
  {
   "cell_type": "markdown",
   "id": "812f5ca8",
   "metadata": {},
   "source": [
    "### View job dependencies in the pipeline graph"
   ]
  },
  {
   "cell_type": "raw",
   "id": "96484125",
   "metadata": {},
   "source": [
    "To arrange jobs in the pipeline graph based on their needs dependencies, select Job dependencies in the Group jobs by section. This option is available for pipelines with 3 or more jobs with needs job dependencies.\n",
    "\n",
    "Jobs in the leftmost column run first, and jobs that depend on them are grouped in the next columns.\n",
    "\n",
    "For example, test-job1 depends only on jobs in the first column, so it displays in the second column from the left. deploy-job1 depends on jobs in both the first and second column and displays in the third column:"
   ]
  },
  {
   "cell_type": "markdown",
   "id": "8aded861",
   "metadata": {},
   "source": [
    "<img src='./img/9.png'>"
   ]
  },
  {
   "cell_type": "raw",
   "id": "defa5a34",
   "metadata": {},
   "source": [
    "To add lines that show the needs relationships between jobs, select the Show dependencies toggle. These lines are similar to the needs visualization:"
   ]
  },
  {
   "cell_type": "markdown",
   "id": "bde2e752",
   "metadata": {},
   "source": [
    "<img src='./img/10.png'>"
   ]
  },
  {
   "cell_type": "raw",
   "id": "dd98261b",
   "metadata": {},
   "source": [
    "To see the full needs dependency tree for a job, hover over it:"
   ]
  },
  {
   "cell_type": "markdown",
   "id": "a197e11d",
   "metadata": {},
   "source": [
    "<img src='./img/11.png'>"
   ]
  },
  {
   "cell_type": "markdown",
   "id": "df162f35",
   "metadata": {},
   "source": [
    "### Pipeline mini graphs"
   ]
  },
  {
   "cell_type": "raw",
   "id": "9595510a",
   "metadata": {},
   "source": [
    "Pipeline mini graphs take less space and can tell you at a quick glance if all jobs passed or something failed. The pipeline mini graph can be found when you go to:\n",
    "\n",
    "- The pipelines index page.\n",
    "- A single commit page.\n",
    "- A merge request page.\n",
    "- The pipeline editor, in GitLab 14.5 and later.\n",
    "\n",
    "Pipeline mini graphs allow you to see all related jobs for a single commit and the net result of each stage of your pipeline. This allows you to quickly see what failed and fix it.\n",
    "\n",
    "Pipeline mini graphs only display jobs by stage.\n",
    "\n",
    "Stages in pipeline mini graphs are expandable. Hover your mouse over each stage to see the name and status, and select a stage to expand its jobs list."
   ]
  },
  {
   "cell_type": "markdown",
   "id": "404d4eae",
   "metadata": {},
   "source": [
    "<img src=\"./img/13.png\" />"
   ]
  },
  {
   "cell_type": "markdown",
   "id": "dae38564",
   "metadata": {},
   "source": [
    "# Scheduled pipelines"
   ]
  },
  {
   "cell_type": "raw",
   "id": "42400394",
   "metadata": {},
   "source": [
    "Use scheduled pipelines to run GitLab CI/CD pipelines at regular intervals."
   ]
  },
  {
   "cell_type": "markdown",
   "id": "e1274ba5",
   "metadata": {},
   "source": [
    "### Prerequisites"
   ]
  },
  {
   "cell_type": "raw",
   "id": "5d9c1ba8",
   "metadata": {},
   "source": [
    "For a scheduled pipeline to run:\n",
    "\n",
    "    - The schedule owner must have the Developer role. For pipelines on protected branches, the schedule owner must be \n",
    "      allowed to merge to the branch.\n",
    "    - The CI/CD configuration must be valid.\n",
    "    \n",
    "Otherwise, the pipeline is not created. No error message is displayed."
   ]
  },
  {
   "cell_type": "markdown",
   "id": "b7a9ebe2",
   "metadata": {},
   "source": [
    "### Add a pipeline schedule"
   ]
  },
  {
   "cell_type": "raw",
   "id": "00dc930b",
   "metadata": {},
   "source": [
    "To add a pipeline schedule:\n",
    "\n",
    "    - On the top bar, select Main menu > Projects and find your project.\n",
    "    - On the left sidebar, select CI/CD > Schedules.\n",
    "    - Select New schedule and fill in the form.\n",
    "    - Interval Pattern: Select one of the preconfigured intervals, or enter a custom interval in cron notation. You can use \n",
    "      any cron value, but scheduled pipelines cannot run more frequently than the instance’s maximum scheduled pipeline \n",
    "      frequency.\n",
    "    - Target branch or tag: Select the branch or tag for the pipeline.\n",
    "    - Variables: Add any number of CI/CD variables to the schedule. These variables are available only when the scheduled \n",
    "      pipeline runs, and not in any other pipeline run.\n",
    "\n",
    "If the project already has the maximum number of pipeline schedules, you must delete unused schedules before you can add another."
   ]
  },
  {
   "cell_type": "markdown",
   "id": "08d7e518",
   "metadata": {},
   "source": [
    "### Edit a pipeline schedule"
   ]
  },
  {
   "cell_type": "raw",
   "id": "b1bb29c2",
   "metadata": {},
   "source": [
    "The owner of a pipeline schedule can edit it:\n",
    "\n",
    "    - On the top bar, select Main menu > Projects and find your project.\n",
    "    - In the left sidebar, select CI/CD > Schedules.\n",
    "    - Next to the schedule, select Edit () and fill in the form.\n",
    "    - The user must have the Developer role or above for the project. If the user is not the owner of the schedule, they \n",
    "      must first take ownership of the schedule."
   ]
  },
  {
   "cell_type": "markdown",
   "id": "0491e33b",
   "metadata": {},
   "source": [
    "### Run manually"
   ]
  },
  {
   "cell_type": "raw",
   "id": "49809dcb",
   "metadata": {},
   "source": [
    "To trigger a pipeline schedule manually, so that it runs immediately instead of the next scheduled time:\n",
    "\n",
    "    - On the top bar, select Main menu > Projects and find your project.\n",
    "    - On the left sidebar, select CI/CD > Schedules.\n",
    "    - On the right of the list, for the pipeline you want to run, select Play ().\n",
    "\n",
    "You can manually run scheduled pipelines once per minute."
   ]
  },
  {
   "cell_type": "markdown",
   "id": "673ef634",
   "metadata": {},
   "source": [
    "### Take ownership"
   ]
  },
  {
   "cell_type": "raw",
   "id": "d03f89dc",
   "metadata": {},
   "source": [
    "Scheduled pipelines execute with the permissions of the user who owns the schedule. The pipeline has access to the same resources as the pipeline owner, including protected environments and the CI/CD job token.\n",
    "\n",
    "To take ownership of a pipeline created by a different user:\n",
    "\n",
    "    - On the top bar, select Main menu > Projects and find your project.\n",
    "    - On the left sidebar, select CI/CD > Schedules.\n",
    "    - On the right of the list, for the pipeline you want to become owner of, select Take ownership."
   ]
  },
  {
   "cell_type": "markdown",
   "id": "8bf0fa2e",
   "metadata": {},
   "source": [
    "### Trigger pipelines by using the API"
   ]
  },
  {
   "cell_type": "raw",
   "id": "117ac0f2",
   "metadata": {},
   "source": [
    "To trigger a pipeline for a specific branch or tag, you can use an API call to the pipeline triggers API endpoint.\n",
    "\n",
    "When authenticating with the API, you can use:\n",
    "\n",
    "    - A trigger token to trigger a branch or tag pipeline.\n",
    "    - A CI/CD job token to trigger a multi-project pipeline."
   ]
  },
  {
   "cell_type": "markdown",
   "id": "fa02ea91",
   "metadata": {},
   "source": [
    "### Create a trigger token"
   ]
  },
  {
   "cell_type": "raw",
   "id": "aa6b8b9e",
   "metadata": {},
   "source": [
    "You can trigger a pipeline for a branch or tag by generating a trigger token and using it to authenticate an API call. The token impersonates a user’s project access and permissions.\n",
    "\n",
    "Prerequisite:\n",
    "\n",
    "You must have at least the Maintainer role for the project.\n",
    "To create a trigger token:\n",
    "\n",
    "On the top bar, select Main menu > Projects and find your project.\n",
    "On the left sidebar, select Settings > CI/CD.\n",
    "Expand Pipeline triggers.\n",
    "Enter a description and select Add trigger.\n",
    "You can view and copy the full token for all triggers you have created.\n",
    "You can only see the first 4 characters for tokens created by other project members."
   ]
  }
 ],
 "metadata": {
  "kernelspec": {
   "display_name": "Python 3",
   "language": "python",
   "name": "python3"
  },
  "language_info": {
   "codemirror_mode": {
    "name": "ipython",
    "version": 3
   },
   "file_extension": ".py",
   "mimetype": "text/x-python",
   "name": "python",
   "nbconvert_exporter": "python",
   "pygments_lexer": "ipython3",
   "version": "3.8.10"
  }
 },
 "nbformat": 4,
 "nbformat_minor": 5
}
