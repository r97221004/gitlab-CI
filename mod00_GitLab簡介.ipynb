{
 "cells": [
  {
   "cell_type": "markdown",
   "id": "8284c256",
   "metadata": {},
   "source": [
    "# Get started with GitLab CI/CD"
   ]
  },
  {
   "cell_type": "raw",
   "id": "10f2b25d",
   "metadata": {},
   "source": [
    "Use this document to get started with GitLab CI/CD.\n",
    "\n",
    "Before you start, make sure you have:\n",
    "\n",
    "A project in GitLab that you would like to use CI/CD for.\n",
    "The Maintainer or Owner role for the project."
   ]
  },
  {
   "cell_type": "markdown",
   "id": "317b753f",
   "metadata": {},
   "source": [
    "# CI/CD process overview"
   ]
  },
  {
   "cell_type": "raw",
   "id": "2ed073cc",
   "metadata": {},
   "source": [
    "To use GitLab CI/CD:\n",
    "\n",
    "Ensure you have runners available to run your jobs. GitLab SaaS provides runners, so if you’re using GitLab.com, you can skip this step.\n",
    "\n",
    "If you don’t have a runner, install GitLab Runner and register a runner for your instance, project, or group.\n",
    "\n",
    "Create a .gitlab-ci.yml file at the root of your repository. This file is where you define your CI/CD jobs.\n",
    "\n",
    "When you commit the file to your repository, the runner runs your jobs. The job results are displayed in a pipeline."
   ]
  },
  {
   "cell_type": "markdown",
   "id": "eca84000",
   "metadata": {},
   "source": [
    "### Ensure you have runners available"
   ]
  },
  {
   "cell_type": "raw",
   "id": "bc6afb83",
   "metadata": {},
   "source": [
    "In GitLab, runners are agents that run your CI/CD jobs.\n",
    "\n",
    "You might already have runners available for your project, including shared runners, which are available to all projects in your GitLab instance.\n",
    "\n",
    "To view available runners:\n",
    "\n",
    "Go to Settings > CI/CD and expand Runners.\n",
    "As long as you have at least one runner that’s active, with a green circle next to it, you have a runner available to process your jobs.\n",
    "\n",
    "If no runners are listed on the Runners page in the UI, you or an administrator must install GitLab Runner and register at least one runner.\n",
    "\n",
    "If you are testing CI/CD, you can install GitLab Runner and register runners on your local machine. When your CI/CD jobs run, they run on your local machine."
   ]
  },
  {
   "cell_type": "markdown",
   "id": "d59cc277",
   "metadata": {},
   "source": [
    "### Create a .gitlab-ci.yml file"
   ]
  },
  {
   "cell_type": "raw",
   "id": "9ddb9384",
   "metadata": {},
   "source": [
    "The .gitlab-ci.yml file is a YAML file where you configure specific instructions for GitLab CI/CD.\n",
    "\n",
    "In this file, you define:\n",
    "\n",
    "The structure and order of jobs that the runner should execute.\n",
    "The decisions the runner should make when specific conditions are encountered.\n",
    "For example, you might want to run a suite of tests when you commit to any branch except the default branch. When you commit to the default branch, you want to run the same suite, but also publish your application.\n",
    "\n",
    "All of this is defined in the .gitlab-ci.yml file."
   ]
  },
  {
   "cell_type": "raw",
   "id": "351b46e5",
   "metadata": {},
   "source": [
    "To create a .gitlab-ci.yml file:\n",
    "\n",
    "1. On the left sidebar, select Project information > Details.\n",
    "2. Above the file list, select the branch you want to commit to, select the plus icon, then select New file\n",
    "3. For the Filename, type .gitlab-ci.yml and in the larger window, paste this sample code\n",
    "   $GITLAB_USER_LOGIN and $CI_COMMIT_BRANCH are predefined variables that populate when the job runs."
   ]
  },
  {
   "cell_type": "code",
   "execution_count": null,
   "id": "0409e310",
   "metadata": {},
   "outputs": [],
   "source": [
    "build-job:\n",
    "  stage: build\n",
    "  script:\n",
    "    - echo \"Hello, $GITLAB_USER_LOGIN!\"\n",
    "\n",
    "test-job1:\n",
    "  stage: test\n",
    "  script:\n",
    "    - echo \"This job tests something\"\n",
    "\n",
    "test-job2:\n",
    "  stage: test\n",
    "  script:\n",
    "    - echo \"This job tests something, but takes more time than test-job1.\"\n",
    "    - echo \"After the echo commands complete, it runs the sleep command for 20 seconds\"\n",
    "    - echo \"which simulates a test that runs 20 seconds longer than test-job1\"\n",
    "    - sleep 20\n",
    "\n",
    "deploy-prod:\n",
    "  stage: deploy\n",
    "  script:\n",
    "    - echo \"This job deploys something from the $CI_COMMIT_BRANCH branch.\"\n",
    "  environment: production"
   ]
  },
  {
   "cell_type": "raw",
   "id": "aa9d0c3f",
   "metadata": {},
   "source": [
    "4. Select Commit changes.\n",
    "\n",
    "The pipeline starts when the commit is committed."
   ]
  },
  {
   "cell_type": "markdown",
   "id": "f1057185",
   "metadata": {},
   "source": [
    "### .gitlab-ci.yml tips"
   ]
  },
  {
   "cell_type": "raw",
   "id": "0a276294",
   "metadata": {},
   "source": [
    "1. After you create your first .gitlab-ci.yml file, use the pipeline editor for all future edits to the file. With the \n",
    "   pipeline editor, you can:\n",
    "        - Edit the pipeline configuration with automatic syntax highlighting and validation.\n",
    "        - View the CI/CD configuration visualization, a graphical representation of your .gitlab-ci.yml file.\n",
    "\n",
    "2. If you want the runner to use a Docker container to run the jobs, edit the .gitlab-ci.yml file to include an image name:"
   ]
  },
  {
   "cell_type": "code",
   "execution_count": null,
   "id": "916cc4c8",
   "metadata": {},
   "outputs": [],
   "source": [
    "default:\n",
    "  image: ruby:2.7.5"
   ]
  },
  {
   "cell_type": "raw",
   "id": "f7bd3d12",
   "metadata": {},
   "source": [
    "   This command tells the runner to use a Ruby image from Docker Hub and to run the jobs in a container that’s generated \n",
    "   from the image.\n",
    "\n",
    "   This process is different than building an application as a Docker container. Your application does not need to be built \n",
    "   as a Docker container to run CI/CD jobs in Docker containers.\n",
    "\n",
    "3. Each job contains scripts and stages:\n",
    "        - The default keyword is for custom defaults, for example with before_script and after_script.\n",
    "        - stage describes the sequential execution of jobs. Jobs in a single stage run in parallel as long as there are \n",
    "          available runners.\n",
    "        - Use Directed Acyclic Graphs (DAG) keywords to run jobs out of stage order.\n",
    "        \n",
    "4. You can set additional configuration to customize how your jobs and stages perform:\n",
    "    - Use the rules keyword to specify when to run or skip jobs. The only and except legacy keywords are still supported, \n",
    "      but can’t be used with rules in the same job.\n",
    "    - Keep information across jobs and stages persistent in a pipeline with cache and artifacts. These keywords are ways to \n",
    "      store dependencies and job output, even when using ephemeral runners for each job.\n",
    "\n",
    "5. For the complete .gitlab-ci.yml syntax, see the full .gitlab-ci.yml reference topic.      "
   ]
  },
  {
   "cell_type": "markdown",
   "id": "32df538b",
   "metadata": {},
   "source": [
    "### View the status of your pipeline and jobs"
   ]
  },
  {
   "cell_type": "raw",
   "id": "f94df875",
   "metadata": {},
   "source": [
    "When you committed your changes, a pipeline started.\n",
    "\n",
    "To view your pipeline:\n",
    "\n",
    "1. Go to CI/CD > Pipelines.\n",
    "        A pipeline with three stages should be displayed:"
   ]
  },
  {
   "cell_type": "markdown",
   "id": "3b46d387",
   "metadata": {},
   "source": [
    "<img src='./img/1.png'>"
   ]
  },
  {
   "cell_type": "raw",
   "id": "9aed758c",
   "metadata": {},
   "source": [
    "2. To view a visual representation of your pipeline, select the pipeline ID."
   ]
  },
  {
   "cell_type": "markdown",
   "id": "8c72e22c",
   "metadata": {},
   "source": [
    "<img src='./img/2.png'>"
   ]
  },
  {
   "cell_type": "raw",
   "id": "440a2252",
   "metadata": {},
   "source": [
    "3. To view details of a job, select the job name, for example, deploy-prod."
   ]
  },
  {
   "cell_type": "markdown",
   "id": "d44c8d59",
   "metadata": {},
   "source": [
    "<img src='./img/3.png'>"
   ]
  },
  {
   "cell_type": "raw",
   "id": "1887a68f",
   "metadata": {},
   "source": [
    "If the job status is stuck, check to ensure a runner is properly configured for the project."
   ]
  },
  {
   "cell_type": "markdown",
   "id": "39dc09c1",
   "metadata": {},
   "source": [
    "# CI/CD concepts ALL TIERS"
   ]
  },
  {
   "cell_type": "raw",
   "id": "7345745c",
   "metadata": {},
   "source": [
    "With the continuous method of software development, you continuously build, test, and deploy iterative code changes. This iterative process helps reduce the chance that you develop new code based on buggy or failed previous versions. With this method, you strive to have less human intervention or even no intervention at all, from the development of new code until its deployment.\n",
    "\n",
    "The three primary approaches for the continuous method are:\n",
    "\n",
    "1. Continuous Integration\n",
    "2. Continuous Delivery\n",
    "3. Continuous Deployment"
   ]
  },
  {
   "cell_type": "markdown",
   "id": "e3e66f1e",
   "metadata": {},
   "source": [
    "### Continuous Integration"
   ]
  },
  {
   "cell_type": "raw",
   "id": "2e17aac3",
   "metadata": {},
   "source": [
    "Consider an application that has its code stored in a Git repository in GitLab. Developers push code changes every day, multiple times a day. For every push to the repository, you can create a set of scripts to build and test your application automatically. These scripts help decrease the chances that you introduce errors in your application.\n",
    "\n",
    "This practice is known as Continuous Integration. Each change submitted to an application, even to development branches, is built and tested automatically and continuously. These tests ensure the changes pass all tests, guidelines, and code compliance standards you established for your application.\n",
    "\n",
    "GitLab itself is an example of a project that uses Continuous Integration as a software development method. For every push to the project, a set of checks run against the code."
   ]
  },
  {
   "cell_type": "markdown",
   "id": "3b43c6b6",
   "metadata": {},
   "source": [
    "### Continuous Delivery"
   ]
  },
  {
   "cell_type": "raw",
   "id": "aadec2eb",
   "metadata": {},
   "source": [
    "Continuous Delivery is a step beyond Continuous Integration. Not only is your application built and tested each time a code change is pushed to the codebase, the application is also deployed continuously. However, with continuous delivery, you trigger the deployments manually.\n",
    "\n",
    "Continuous Delivery checks the code automatically, but it requires human intervention to manually and strategically trigger the deployment of the changes."
   ]
  },
  {
   "cell_type": "markdown",
   "id": "97fa86df",
   "metadata": {},
   "source": [
    "### Continuous Deployment"
   ]
  },
  {
   "cell_type": "raw",
   "id": "e6e4e43e",
   "metadata": {},
   "source": [
    "Continuous Deployment is another step beyond Continuous Integration, similar to Continuous Delivery. The difference is that instead of deploying your application manually, you set it to be deployed automatically. Human intervention is not required."
   ]
  },
  {
   "cell_type": "markdown",
   "id": "3e91b055",
   "metadata": {},
   "source": [
    "# GitLab CI/CD"
   ]
  },
  {
   "cell_type": "raw",
   "id": "0dfddadb",
   "metadata": {},
   "source": [
    "GitLab CI/CD is the part of GitLab that you use for all of the continuous methods (Continuous Integration, Delivery, and Deployment). With GitLab CI/CD, you can test, build, and publish your software with no third-party application or integration needed."
   ]
  },
  {
   "cell_type": "markdown",
   "id": "06350cc0",
   "metadata": {},
   "source": [
    "### GitLab CI/CD workflow"
   ]
  },
  {
   "cell_type": "raw",
   "id": "c19da2f7",
   "metadata": {},
   "source": [
    "GitLab CI/CD fits in a common development workflow.\n",
    "\n",
    "You can start by discussing a code implementation in an issue and working locally on your proposed changes. Then you can push your commits to a feature branch in a remote repository that’s hosted in GitLab. The push triggers the CI/CD pipeline for your project. Then, GitLab CI/CD:\n",
    "\n",
    "1. Runs automated scripts (sequentially or in parallel) to:\n",
    "       Build and test your application.\n",
    "       Preview the changes in a Review App, the same as you would see on your localhost.\n",
    "    \n",
    "After the implementation works as expected:\n",
    "\n",
    "2. Get your code reviewed and approved.\n",
    "3. Merge the feature branch into the default branch.\n",
    "       GitLab CI/CD deploys your changes automatically to a production environment.\n",
    "       \n",
    "       \n",
    "If something goes wrong, you can roll back your changes."
   ]
  },
  {
   "cell_type": "markdown",
   "id": "941842c0",
   "metadata": {},
   "source": [
    "<img src='./img/4.png'>"
   ]
  },
  {
   "cell_type": "raw",
   "id": "9af4bc0f",
   "metadata": {},
   "source": [
    "This workflow shows the major steps in the GitLab process. You don’t need any external tools to deliver your software and you can visualize all the steps in the GitLab UI."
   ]
  },
  {
   "cell_type": "markdown",
   "id": "15ebdf5e",
   "metadata": {},
   "source": [
    "### A deeper look into the CI/CD workflow"
   ]
  },
  {
   "cell_type": "raw",
   "id": "d9d9dc41",
   "metadata": {},
   "source": [
    "If you look deeper into the workflow, you can see the features available in GitLab at each stage of the DevOps lifecycle."
   ]
  },
  {
   "cell_type": "markdown",
   "id": "e71b6d4e",
   "metadata": {},
   "source": [
    "<img src='./img/5.png'>"
   ]
  },
  {
   "cell_type": "markdown",
   "id": "7e327852",
   "metadata": {},
   "source": [
    "# Disabling GitLab CI/CD ALL TIERS"
   ]
  },
  {
   "cell_type": "raw",
   "id": "1e4e95cc",
   "metadata": {},
   "source": [
    "GitLab CI/CD is enabled by default on all new projects. If you use an external CI/CD server like Jenkins or Drone CI, you can disable GitLab CI/CD to avoid conflicts with the commits status API.\n",
    "\n",
    "You can disable GitLab CI/CD:\n",
    "    For each project.\n",
    "    For all new projects on an instance.\n",
    "    \n",
    "These changes do not apply to projects in an external integration."
   ]
  },
  {
   "cell_type": "markdown",
   "id": "55b7b062",
   "metadata": {},
   "source": [
    "### Disable CI/CD in a project"
   ]
  },
  {
   "cell_type": "raw",
   "id": "1b04fb13",
   "metadata": {},
   "source": [
    "When you disable GitLab CI/CD:\n",
    "\n",
    "    - The CI/CD item in the left sidebar is removed.\n",
    "    - The /pipelines and /jobs pages are no longer available.\n",
    "    - Existing jobs and pipelines are hidden, not removed.\n",
    "\n",
    "To disable GitLab CI/CD in your project:\n",
    "\n",
    "    - On the top bar, select Main menu > Projects and find your project.\n",
    "    - On the left sidebar, select Settings > General.\n",
    "    - Expand Visibility, project features, permissions.\n",
    "    - In the Repository section, turn off CI/CD.    \n",
    "    - Select Save changes."
   ]
  },
  {
   "cell_type": "markdown",
   "id": "30ecffdd",
   "metadata": {},
   "source": [
    "### Enable CI/CD in a project"
   ]
  },
  {
   "cell_type": "raw",
   "id": "0c52cb5e",
   "metadata": {},
   "source": [
    "To enable GitLab CI/CD in your project:\n",
    "\n",
    "    - On the top bar, select Main menu > Projects and find your project.\n",
    "    - On the left sidebar, select Settings > General.\n",
    "    - Expand Visibility, project features, permissions.\n",
    "    - In the Repository section, turn on CI/CD.\n",
    "    - Select Save changes."
   ]
  }
 ],
 "metadata": {
  "kernelspec": {
   "display_name": "Python 3",
   "language": "python",
   "name": "python3"
  },
  "language_info": {
   "codemirror_mode": {
    "name": "ipython",
    "version": 3
   },
   "file_extension": ".py",
   "mimetype": "text/x-python",
   "name": "python",
   "nbconvert_exporter": "python",
   "pygments_lexer": "ipython3",
   "version": "3.8.10"
  }
 },
 "nbformat": 4,
 "nbformat_minor": 5
}
