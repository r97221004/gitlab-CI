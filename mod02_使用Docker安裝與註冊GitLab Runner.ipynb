{
 "cells": [
  {
   "cell_type": "markdown",
   "id": "b1f333ac",
   "metadata": {},
   "source": [
    "# 安裝 gitlab runner "
   ]
  },
  {
   "cell_type": "markdown",
   "id": "72eaebb3",
   "metadata": {},
   "source": [
    "### 方法一: 使用指令"
   ]
  },
  {
   "cell_type": "code",
   "execution_count": null,
   "id": "dc5c4848",
   "metadata": {},
   "outputs": [],
   "source": [
    "sudo docker container run -d --name gitlab-runner --restart always \\\n",
    "  -v /srv/gitlab-runner/config:/etc/gitlab-runner \\\n",
    "  -v /var/run/docker.sock:/var/run/docker.sock \\\n",
    "  gitlab/gitlab-runner:latest "
   ]
  },
  {
   "cell_type": "markdown",
   "id": "a3304510",
   "metadata": {},
   "source": [
    "### 方法二: 使用 docker-compose"
   ]
  },
  {
   "cell_type": "code",
   "execution_count": null,
   "id": "046830ee",
   "metadata": {},
   "outputs": [],
   "source": [
    "version: '3'\n",
    "services:\n",
    "  gitlab-runner:\n",
    "    image: 'gitlab/gitlab-runner:latest'\n",
    "    volumes:\n",
    "      - /var/run/docker.sock:/var/run/docker.sock\n",
    "      - /srv/gitlab-runner/config:/etc/gitlab-runner\n",
    "    restart: always"
   ]
  },
  {
   "cell_type": "markdown",
   "id": "67eb7cc5",
   "metadata": {},
   "source": [
    "# 註冊 gitlab runner "
   ]
  },
  {
   "cell_type": "markdown",
   "id": "a80dee7d",
   "metadata": {},
   "source": [
    "### 方法一: 非互動式"
   ]
  },
  {
   "cell_type": "code",
   "execution_count": null,
   "id": "8374c46f",
   "metadata": {},
   "outputs": [],
   "source": [
    "docker container run --rm -v /srv/gitlab-runner/config:/etc/gitlab-runner gitlab/gitlab-runner register \\\n",
    "  --non-interactive \\\n",
    "  --executor \"docker\" \\\n",
    "  --docker-image alpine:latest \\\n",
    "  --url \"http://20.243.250.224/\" \\\n",
    "  --clone-url \"http://20.243.250.224/\" \\\n",
    "  --registration-token \"GR1348941B65sg9msjqzjizEufU_R\" \\\n",
    "  --description \"second-register-runner\" \\\n",
    "  --tag-list \"common-api-ci\" \\\n",
    "  --run-untagged=\"true\" \\\n",
    "  --locked=\"true\" \\\n",
    "  --access-level=\"not_protected\""
   ]
  },
  {
   "cell_type": "markdown",
   "id": "3ec7a7de",
   "metadata": {},
   "source": [
    "### 方法二: 互動式"
   ]
  },
  {
   "cell_type": "raw",
   "id": "1935a3d4",
   "metadata": {},
   "source": [
    "記得要加上短選項 -it"
   ]
  },
  {
   "cell_type": "code",
   "execution_count": null,
   "id": "95f74372",
   "metadata": {},
   "outputs": [],
   "source": [
    "docker container run --rm -it -v /srv/gitlab-runner/config:/etc/gitlab-runner gitlab/gitlab-runner register"
   ]
  },
  {
   "cell_type": "markdown",
   "id": "a2973d15",
   "metadata": {},
   "source": [
    "### 方法三: 進入容器 gitlab/gitlab-runner"
   ]
  },
  {
   "cell_type": "raw",
   "id": "192d41fa",
   "metadata": {},
   "source": [
    "進入 gitlab-runner 容器的 shell 後輸入:"
   ]
  },
  {
   "cell_type": "code",
   "execution_count": null,
   "id": "1fe7d4f9",
   "metadata": {},
   "outputs": [],
   "source": [
    "gitlab-runner register"
   ]
  },
  {
   "cell_type": "markdown",
   "id": "14110534",
   "metadata": {},
   "source": [
    "### 範例"
   ]
  },
  {
   "cell_type": "raw",
   "id": "1ee60ea1",
   "metadata": {},
   "source": [
    "修改 gitlab-runner 的 config 檔，如果是使用 docker executor 要注意 mount 的問題。"
   ]
  },
  {
   "cell_type": "raw",
   "id": "e02d4e44",
   "metadata": {},
   "source": [
    "加入 concurrent = 3 速度會變快"
   ]
  },
  {
   "cell_type": "raw",
   "id": "032018e0",
   "metadata": {},
   "source": [
    "vim /etc/gitlab-runner/config.toml"
   ]
  },
  {
   "cell_type": "code",
   "execution_count": null,
   "id": "42a6081c",
   "metadata": {},
   "outputs": [],
   "source": [
    "[[runners]]\n",
    "  name = \"dev_runner\"\n",
    "  url = \"http://20.243.250.224:6680/\"\n",
    "  id = 4\n",
    "  token = \"Ea2FfPwZPoQhu1C-mh6v\"\n",
    "  token_obtained_at = 2023-03-25T08:13:59Z\n",
    "  token_expires_at = 0001-01-01T00:00:00Z\n",
    "  executor = \"docker\"\n",
    "  [runners.custom_build_dir]\n",
    "  [runners.cache]\n",
    "    [runners.cache.s3]\n",
    "    [runners.cache.gcs]\n",
    "    [runners.cache.azure]\n",
    "  [runners.docker]\n",
    "    tls_verify = false\n",
    "    image = \"alpine:latest\"\n",
    "    privileged = false\n",
    "    disable_entrypoint_overwrite = false\n",
    "    oom_kill_disable = false\n",
    "    disable_cache = false\n",
    "    volumes = [\"/cache\", \"/usr/bin/docker:/usr/bin/docker\", \"/var/run/docker.sock:/var/run/docker.sock\"]\n",
    "    shm_size = 0\n",
    "    concurrent = 3"
   ]
  }
 ],
 "metadata": {
  "kernelspec": {
   "display_name": "Python 3",
   "language": "python",
   "name": "python3"
  },
  "language_info": {
   "codemirror_mode": {
    "name": "ipython",
    "version": 3
   },
   "file_extension": ".py",
   "mimetype": "text/x-python",
   "name": "python",
   "nbconvert_exporter": "python",
   "pygments_lexer": "ipython3",
   "version": "3.8.10"
  }
 },
 "nbformat": 4,
 "nbformat_minor": 5
}
