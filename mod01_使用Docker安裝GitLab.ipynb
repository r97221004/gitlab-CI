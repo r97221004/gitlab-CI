{
 "cells": [
  {
   "cell_type": "markdown",
   "id": "902aea97",
   "metadata": {},
   "source": [
    "# 安裝 gitlab "
   ]
  },
  {
   "cell_type": "markdown",
   "id": "2779ff9b",
   "metadata": {},
   "source": [
    "### 方法一: 使用指令"
   ]
  },
  {
   "cell_type": "raw",
   "id": "cac0a868",
   "metadata": {},
   "source": [
    "hostname 待處理寫入"
   ]
  },
  {
   "cell_type": "raw",
   "id": "069d1a9a",
   "metadata": {},
   "source": [
    "- hostname: 域名或 ip     \n",
    "- publish: 端口映射\n",
    "- restart: 重啓方式\n",
    "- gitlab/gitlab-ce:latest:  鏡像名稱\n",
    "- volume: 目錄掛載"
   ]
  },
  {
   "cell_type": "code",
   "execution_count": null,
   "id": "ee439ddb",
   "metadata": {},
   "outputs": [],
   "source": [
    "sudo docker run --detach \\\n",
    "  --hostname gitlab.example.com \\\n",
    "  --publish 443:443 --publish 80:80 --publish 222:22 \\\n",
    "  --name gitlab \\\n",
    "  --restart always \\\n",
    "  --volume /srv/gitlab/config:/etc/gitlab \\\n",
    "  --volume /srv/gitlab/logs:/var/log/gitlab \\\n",
    "  --volume /srv/gitlab/data:/var/opt/gitlab \\\n",
    "gitlab/gitlab-ce:latest "
   ]
  },
  {
   "cell_type": "markdown",
   "id": "23ea0979",
   "metadata": {},
   "source": [
    "### 方法二: 使用 docker-compose"
   ]
  },
  {
   "cell_type": "code",
   "execution_count": null,
   "id": "1236d4b1",
   "metadata": {},
   "outputs": [],
   "source": [
    "version: \"3.6\"\n",
    "services:\n",
    "  gitlab:\n",
    "    image: gitlab/gitlab-ce:latest\n",
    "    hostname: 'gitlab.example.com'\n",
    "    restart: always\n",
    "    privileged: true\n",
    "    ports:\n",
    "      - '8080:80'\n",
    "      - '443:443'\n",
    "      - '22:22'\n",
    "    volumes:\n",
    "      - '/srv/gitlab/data:/var/opt/gitlab'\n",
    "      - '/srv/gitlab/logs:/var/log/gitlab'\n",
    "      - '/srv/gitlab/config:/etc/gitlab'"
   ]
  },
  {
   "cell_type": "markdown",
   "id": "0b4f9f00",
   "metadata": {},
   "source": [
    "# 修改 root 密碼"
   ]
  },
  {
   "cell_type": "raw",
   "id": "7a812d19",
   "metadata": {},
   "source": [
    "因為我們沒有把 /opt/gitlab/bin 同步出來，所以要在容器裡面的 /opt/gitlab/bin 才可以用 gitlab-rake 指令。"
   ]
  },
  {
   "cell_type": "markdown",
   "id": "a202b251",
   "metadata": {},
   "source": [
    "參考官方文件: https://docs.gitlab.com/ee/security/reset_user_password.html"
   ]
  },
  {
   "cell_type": "markdown",
   "id": "4d842d00",
   "metadata": {},
   "source": [
    "### 範例"
   ]
  },
  {
   "cell_type": "code",
   "execution_count": null,
   "id": "605001f6",
   "metadata": {},
   "outputs": [],
   "source": [
    "sudo gitlab-rails console"
   ]
  },
  {
   "cell_type": "code",
   "execution_count": null,
   "id": "79afa4e6",
   "metadata": {},
   "outputs": [],
   "source": [
    "user = User.find_by_username 'root'"
   ]
  },
  {
   "cell_type": "code",
   "execution_count": null,
   "id": "78861569",
   "metadata": {},
   "outputs": [],
   "source": [
    "user.password = '1qaz@WSX'"
   ]
  },
  {
   "cell_type": "code",
   "execution_count": null,
   "id": "6965f53a",
   "metadata": {},
   "outputs": [],
   "source": [
    "user.password_confirmation = '1qaz@WSX'"
   ]
  },
  {
   "cell_type": "code",
   "execution_count": null,
   "id": "147aeb87",
   "metadata": {},
   "outputs": [],
   "source": [
    "user.save!"
   ]
  },
  {
   "cell_type": "code",
   "execution_count": null,
   "id": "e1b7eba8",
   "metadata": {},
   "outputs": [],
   "source": [
    "exit"
   ]
  },
  {
   "cell_type": "markdown",
   "id": "0b4cb853",
   "metadata": {},
   "source": [
    "### 範例"
   ]
  },
  {
   "cell_type": "raw",
   "id": "59eced57",
   "metadata": {},
   "source": [
    "修改 gitlab 的 config 檔。"
   ]
  },
  {
   "cell_type": "code",
   "execution_count": null,
   "id": "95fe2011",
   "metadata": {},
   "outputs": [],
   "source": [
    "vi /opt/gitlab/embedded/service/gitlab-rails/config/gitlab.yml"
   ]
  },
  {
   "cell_type": "code",
   "execution_count": null,
   "id": "86e2097e",
   "metadata": {},
   "outputs": [],
   "source": [
    "gitlab-ctl restart"
   ]
  }
 ],
 "metadata": {
  "kernelspec": {
   "display_name": "Python 3",
   "language": "python",
   "name": "python3"
  },
  "language_info": {
   "codemirror_mode": {
    "name": "ipython",
    "version": 3
   },
   "file_extension": ".py",
   "mimetype": "text/x-python",
   "name": "python",
   "nbconvert_exporter": "python",
   "pygments_lexer": "ipython3",
   "version": "3.8.10"
  }
 },
 "nbformat": 4,
 "nbformat_minor": 5
}
